{
 "cells": [
  {
   "cell_type": "code",
   "execution_count": 1,
   "metadata": {},
   "outputs": [],
   "source": [
    "import numpy as np \n",
    "import pandas as pd\n",
    "import seaborn as sns\n",
    "import matplotlib.pyplot as plt # matplotlib for plotting\n",
    "import re # regular expressions\n",
    "import warnings\n",
    "warnings.filterwarnings(\"ignore\") #because who likes annoying warnings\n",
    "\n",
    "plt.style.use('ggplot') #prettier pictures\n",
    "\n",
    "import datetime      #for datetime operations\n",
    "import calendar      #for calendar for datetime operations\n",
    "import time          #to get the system time\n",
    "plt.rcParams['figure.figsize'] = [16, 10] #set default figure size\n",
    "\n",
    "from sklearn.model_selection import train_test_split\n",
    "from sklearn.tree import DecisionTreeRegressor\n",
    "from sklearn.metrics import mean_squared_error\n",
    "from sklearn.model_selection import cross_val_score\n",
    "from sklearn.tree import DecisionTreeClassifier\n",
    "\n",
    "import pydotplus\n",
    "from sklearn import tree\n",
    "import collections"
   ]
  },
  {
   "cell_type": "code",
   "execution_count": 2,
   "metadata": {},
   "outputs": [],
   "source": [
    "df = pd.read_csv('../data/clean_train.csv')"
   ]
  },
  {
   "cell_type": "code",
   "execution_count": 3,
   "metadata": {},
   "outputs": [
    {
     "name": "stdout",
     "output_type": "stream",
     "text": [
      "<class 'pandas.core.frame.DataFrame'>\n",
      "RangeIndex: 1436572 entries, 0 to 1436571\n",
      "Data columns (total 26 columns):\n",
      "Unnamed: 0                  1436572 non-null int64\n",
      "id                          1436572 non-null object\n",
      "vendor_id                   1436572 non-null int64\n",
      "pickup_datetime             1436572 non-null object\n",
      "dropoff_datetime            1436572 non-null object\n",
      "passenger_count             1436572 non-null int64\n",
      "pickup_longitude            1436572 non-null float64\n",
      "pickup_latitude             1436572 non-null float64\n",
      "dropoff_longitude           1436572 non-null float64\n",
      "dropoff_latitude            1436572 non-null float64\n",
      "store_and_fwd_flag          1436572 non-null int64\n",
      "trip_duration               1436572 non-null int64\n",
      "date                        1436572 non-null object\n",
      "minimum temperature         1436572 non-null int64\n",
      "precipitation               1436572 non-null float64\n",
      "snow fall                   1436572 non-null float64\n",
      "snow depth                  1436572 non-null float64\n",
      "log_trip_duration           1436572 non-null float64\n",
      "distance_haversine          1436572 non-null float64\n",
      "distance_dummy_manhattan    1436572 non-null float64\n",
      "direction                   1436572 non-null float64\n",
      "Hour                        1436572 non-null int64\n",
      "dayofweek                   1436572 non-null int64\n",
      "Month                       1436572 non-null int64\n",
      "pickup_cluster              1436572 non-null int64\n",
      "dropoff_cluster             1436572 non-null int64\n",
      "dtypes: float64(11), int64(11), object(4)\n",
      "memory usage: 285.0+ MB\n"
     ]
    }
   ],
   "source": [
    "df.info()"
   ]
  },
  {
   "cell_type": "code",
   "execution_count": 31,
   "metadata": {},
   "outputs": [],
   "source": [
    "#seperating into predictor and target variables\n",
    "\n",
    "X = df[['pickup_longitude', 'pickup_latitude', 'dropoff_longitude', 'dropoff_latitude']]\n",
    "\n",
    "y = df['log_trip_duration'] #target variable"
   ]
  },
  {
   "cell_type": "code",
   "execution_count": 32,
   "metadata": {},
   "outputs": [],
   "source": [
    "#random splitting \n",
    "#set random state for deterministic random probabilities\n",
    "X_train, X_test, y_train, y_test = train_test_split(X, y , test_size = 0.2, random_state = 42)"
   ]
  },
  {
   "cell_type": "code",
   "execution_count": 33,
   "metadata": {},
   "outputs": [],
   "source": [
    "#model = DecisionTreeRegressor(max_depth=5,\n",
    "#            max_features=None, max_leaf_nodes=None,\n",
    "#            min_impurity_split=1e-07, min_samples_leaf=1,\n",
    "#            min_samples_split=2, min_weight_fraction_leaf=0.0,\n",
    "#            presort=False, splitter='best', random_state = 42)\n",
    "\n",
    "model = DecisionTreeRegressor(max_depth = 5, random_state = 42)\n",
    "model.fit(X_train,y_train)\n",
    "y_pred = model.predict(X_test)"
   ]
  },
  {
   "cell_type": "code",
   "execution_count": 34,
   "metadata": {},
   "outputs": [
    {
     "name": "stdout",
     "output_type": "stream",
     "text": [
      "R^2: 0.28418946438959414\n",
      "Root Mean Log Squared Error: 0.6479021461560214\n"
     ]
    }
   ],
   "source": [
    "print(\"R^2: {}\".format(model.score(X_test, y_test)))\n",
    "rmse = np.sqrt(mean_squared_error(y_test, y_pred))\n",
    "print(\"Root Mean Log Squared Error: {}\".format(rmse))"
   ]
  },
  {
   "cell_type": "markdown",
   "metadata": {},
   "source": [
    "Using a decision tree regressor with max depth 5, we get RMLSE of 0.64. Did this just for the sake of arriving at a cleaner, more interpretable tree. To plot later. "
   ]
  },
  {
   "cell_type": "code",
   "execution_count": 35,
   "metadata": {},
   "outputs": [
    {
     "data": {
      "text/plain": [
       "<matplotlib.axes._subplots.AxesSubplot at 0x268885d1da0>"
      ]
     },
     "execution_count": 35,
     "metadata": {},
     "output_type": "execute_result"
    },
    {
     "data": {
      "image/png": "[encoded data removed]",
      "text/plain": [
       "<Figure size 432x288 with 1 Axes>"
      ]
     },
     "metadata": {
      "needs_background": "light"
     },
     "output_type": "display_data"
    }
   ],
   "source": [
    "sns.distplot(df.log_trip_duration, bins = 6)"
   ]
  },
  {
   "cell_type": "code",
   "execution_count": 16,
   "metadata": {},
   "outputs": [],
   "source": [
    "mean_dur = np.mean(df.log_trip_duration)\n",
    "std_dur = np.std(df.log_trip_duration)"
   ]
  },
  {
   "cell_type": "code",
   "execution_count": 17,
   "metadata": {},
   "outputs": [],
   "source": [
    "def to_bins(df):\n",
    "    if ((df['log_trip_duration'] < (mean_dur - 2*std_dur))):\n",
    "        return 0\n",
    "    elif ((df['log_trip_duration'] >= (mean_dur - 2*std_dur)) & (df['log_trip_duration'] < (mean_dur - 1*std_dur))):\n",
    "        return 1\n",
    "    elif ((df['log_trip_duration'] >= (mean_dur - 1*std_dur)) & (df['log_trip_duration'] < (mean_dur))):\n",
    "        return 2\n",
    "    elif ((df['log_trip_duration'] >= (mean_dur)) & (df['log_trip_duration'] < (mean_dur + 1*std_dur))):\n",
    "        return 3\n",
    "    elif ((df['log_trip_duration'] >= (mean_dur + 1*std_dur)) & (df['log_trip_duration'] < (mean_dur + 2*std_dur))):\n",
    "        return 4\n",
    "    elif ((df['log_trip_duration'] >= (mean_dur + 2*std_dur))):\n",
    "        return 5\n",
    "    else:\n",
    "        return df.log_trip_duration"
   ]
  },
  {
   "cell_type": "markdown",
   "metadata": {},
   "source": [
    "Splitting log_trip_duration into normally separated bins\n",
    "The bins represent which section of the normally separated log_trip_duration they are in\n",
    "\n",
    "Values are as follows:\n",
    "\n",
    "- 0 : less than mean - 2 std\n",
    "- 1 : between mean - 2 std and mean - 1 std\n",
    "- 2 : between mean -1 std and mean\n",
    "- 3 : between mean and mean + 1 std\n",
    "- 4 : between mean + 1 std and mean + 2 std\n",
    "- 5 : more than mean + 2 std"
   ]
  },
  {
   "cell_type": "code",
   "execution_count": 18,
   "metadata": {},
   "outputs": [],
   "source": [
    "df['duration_bins'] =  df.apply(to_bins, axis = 1)"
   ]
  },
  {
   "cell_type": "code",
   "execution_count": 19,
   "metadata": {},
   "outputs": [
    {
     "data": {
      "text/plain": [
       "3    534329\n",
       "2    480808\n",
       "4    190238\n",
       "1    173225\n",
       "0     36200\n",
       "5     21772\n",
       "Name: duration_bins, dtype: int64"
      ]
     },
     "execution_count": 19,
     "metadata": {},
     "output_type": "execute_result"
    }
   ],
   "source": [
    "df['duration_bins'].value_counts()"
   ]
  },
  {
   "cell_type": "code",
   "execution_count": 20,
   "metadata": {},
   "outputs": [],
   "source": [
    "df['duration_bins'] = df['duration_bins'].astype('category')"
   ]
  },
  {
   "cell_type": "code",
   "execution_count": 22,
   "metadata": {},
   "outputs": [],
   "source": [
    "X = df[['pickup_longitude', 'pickup_latitude', 'dropoff_longitude', 'dropoff_latitude']]\n",
    "y = df['duration_bins'] #target variable"
   ]
  },
  {
   "cell_type": "code",
   "execution_count": 23,
   "metadata": {},
   "outputs": [],
   "source": [
    "X_train, X_test, y_train, y_test = train_test_split(X, y , test_size = 0.2, random_state = 42, stratify = y)"
   ]
  },
  {
   "cell_type": "code",
   "execution_count": 24,
   "metadata": {},
   "outputs": [
    {
     "name": "stderr",
     "output_type": "stream",
     "text": [
      "C:\\Users\\Justin\\Anaconda3\\lib\\site-packages\\sklearn\\tree\\tree.py:283: DeprecationWarning: The min_impurity_split parameter is deprecated. Its default value will change from 1e-7 to 0 in version 0.23, and it will be removed in 0.25. Use the min_impurity_decrease parameter instead.\n",
      "  DeprecationWarning)\n"
     ]
    }
   ],
   "source": [
    "model = DecisionTreeClassifier(max_depth=5,\n",
    "            max_features=None, max_leaf_nodes=None,\n",
    "            min_impurity_split=1e-07, min_samples_leaf=1,\n",
    "            min_samples_split=2, min_weight_fraction_leaf=0.0,\n",
    "            presort=False, splitter='best', random_state = 42)\n",
    "dtree = model.fit(X_train,y_train)\n",
    "data_feature_names = X.columns"
   ]
  },
  {
   "cell_type": "code",
   "execution_count": 30,
   "metadata": {},
   "outputs": [
    {
     "name": "stdout",
     "output_type": "stream",
     "text": [
      "Accuracy of the model is : 0.43938534361241144\n",
      "-----\n",
      "Misclassified samples: 161073\n",
      "-----\n",
      "The Confusion Matrix :\n",
      "[[  180     0  6839   221     0     0]\n",
      " [   17     0 33573  1055     0     0]\n",
      " [    8     0 89409  6717    27     1]\n",
      " [    6     0 80505 22203  4152     0]\n",
      " [    7     0 14274  9482 13845   440]\n",
      " [    9     0   257   277  3206   605]]\n",
      "-----\n",
      "Classification Report :\n",
      "              precision    recall  f1-score   support\n",
      "\n",
      "           0       0.79      0.02      0.05      7240\n",
      "           1       0.00      0.00      0.00     34645\n",
      "           2       0.40      0.93      0.56     96162\n",
      "           3       0.56      0.21      0.30    106866\n",
      "           4       0.65      0.36      0.47     38048\n",
      "           5       0.58      0.14      0.22      4354\n",
      "\n",
      "   micro avg       0.44      0.44      0.44    287315\n",
      "   macro avg       0.50      0.28      0.27    287315\n",
      "weighted avg       0.45      0.44      0.37    287315\n",
      "\n"
     ]
    }
   ],
   "source": [
    "from sklearn.metrics import classification_report, confusion_matrix\n",
    "\n",
    "y_pred = model.predict(X_test)\n",
    "print('Accuracy of the model is : ' + str(model.score(X_test, y_test)))\n",
    "print('-----')\n",
    "count_misclassified = (y_test != y_pred).sum()\n",
    "print('Misclassified samples: {}'.format(count_misclassified))\n",
    "print('-----')\n",
    "print('The Confusion Matrix :')\n",
    "print(confusion_matrix(y_test,y_pred ))\n",
    "print('-----')\n",
    "print('Classification Report :')\n",
    "print(classification_report(y_test, y_pred))"
   ]
  },
  {
   "cell_type": "code",
   "execution_count": 25,
   "metadata": {},
   "outputs": [
    {
     "data": {
      "text/plain": [
       "True"
      ]
     },
     "execution_count": 25,
     "metadata": {},
     "output_type": "execute_result"
    }
   ],
   "source": [
    "dot_data = tree.export_graphviz(dtree,\n",
    "                                feature_names=data_feature_names,\n",
    "                                out_file=None,\n",
    "                                filled=True,\n",
    "                                rounded=True)\n",
    "graph = pydotplus.graph_from_dot_data(dot_data)\n",
    "\n",
    "colors = ('turquoise', 'orange')\n",
    "edges = collections.defaultdict(list)\n",
    "\n",
    "for edge in graph.get_edge_list():\n",
    "    edges[edge.get_source()].append(int(edge.get_destination()))\n",
    "\n",
    "for edge in edges:\n",
    "    edges[edge].sort()    \n",
    "    for i in range(2):\n",
    "        dest = graph.get_node(str(edges[edge][i]))[0]\n",
    "        dest.set_fillcolor(colors[i])\n",
    "\n",
    "        #writing the tree figure to disk\n",
    "graph.write_png('../data/tree.png')"
   ]
  },
  {
   "cell_type": "code",
   "execution_count": 26,
   "metadata": {},
   "outputs": [],
   "source": [
    "west, south, east, north = -74.03, 40.63, -73.77, 40.85 #setting NYC coordinate boundaries"
   ]
  },
  {
   "cell_type": "code",
   "execution_count": 27,
   "metadata": {},
   "outputs": [],
   "source": [
    "#functions taken from the following website to draw decision boundaries\n",
    "#credit to the author: kazemakase\n",
    "#https://stackoverflow.com/questions/43929400/retrieve-decision-boundary-lines-x-y-coordinate-format-from-sklearn-decision-t\n",
    "\n",
    "from collections import deque\n",
    "from sklearn.tree import _tree as ctree\n",
    "import matplotlib.pyplot as plt\n",
    "from matplotlib.patches import Rectangle\n",
    "\n",
    "\n",
    "class AABB:\n",
    "    \"\"\"Axis-aligned bounding box\"\"\"\n",
    "    def __init__(self, n_features):\n",
    "        self.limits = np.array([[-np.inf, np.inf]] * n_features)\n",
    "\n",
    "    def split(self, f, v):\n",
    "        left = AABB(self.limits.shape[0])\n",
    "        right = AABB(self.limits.shape[0])\n",
    "        left.limits = self.limits.copy()\n",
    "        right.limits = self.limits.copy()\n",
    "\n",
    "        left.limits[f, 1] = v\n",
    "        right.limits[f, 0] = v\n",
    "\n",
    "        return left, right\n",
    "\n",
    "\n",
    "def tree_bounds(tree, n_features=None):\n",
    "    \"\"\"Compute final decision rule for each node in tree\"\"\"\n",
    "    if n_features is None:\n",
    "        n_features = np.max(tree.feature) + 1\n",
    "    aabbs = [AABB(n_features) for _ in range(tree.node_count)]\n",
    "    queue = deque([0])\n",
    "    while queue:\n",
    "        i = queue.pop()\n",
    "        l = tree.children_left[i]\n",
    "        r = tree.children_right[i]\n",
    "        if l != ctree.TREE_LEAF:\n",
    "            aabbs[l], aabbs[r] = aabbs[i].split(tree.feature[i], tree.threshold[i])\n",
    "            queue.extend([l, r])\n",
    "    return aabbs\n",
    "\n",
    "\n",
    "def decision_areas(tree_classifier, maxrange, x=0, y=1, n_features=None):\n",
    "    \"\"\" Extract decision areas.\n",
    "\n",
    "    tree_classifier: Instance of a sklearn.tree.DecisionTreeClassifier\n",
    "    maxrange: values to insert for [left, right, top, bottom] if the interval is open (+/-inf) \n",
    "    x: index of the feature that goes on the x axis\n",
    "    y: index of the feature that goes on the y axis\n",
    "    n_features: override autodetection of number of features\n",
    "    \"\"\"\n",
    "    tree = tree_classifier.tree_\n",
    "    aabbs = tree_bounds(tree, n_features)\n",
    "\n",
    "    rectangles = []\n",
    "    for i in range(len(aabbs)):\n",
    "        if tree.children_left[i] != ctree.TREE_LEAF:\n",
    "            continue\n",
    "        l = aabbs[i].limits\n",
    "        r = [l[x, 0], l[x, 1], l[y, 0], l[y, 1], np.argmax(tree.value[i])]\n",
    "        rectangles.append(r)\n",
    "    rectangles = np.array(rectangles)\n",
    "    rectangles[:, [0, 2]] = np.maximum(rectangles[:, [0, 2]], maxrange[0::2])\n",
    "    rectangles[:, [1, 3]] = np.minimum(rectangles[:, [1, 3]], maxrange[1::2])\n",
    "    return rectangles\n",
    "\n",
    "def plot_areas(rectangles):\n",
    "    for rect in rectangles:\n",
    "        color = ['b', 'r', 'g', 'magenta', 'yellow', 'purple'][int(rect[4])]\n",
    "        print(rect[0], rect[1], rect[2] - rect[0], rect[3] - rect[1])\n",
    "        rp = Rectangle([rect[0], rect[2]], \n",
    "                       rect[1] - rect[0], \n",
    "                       rect[3] - rect[2], color=color, alpha=0.3)\n",
    "        plt.gca().add_artist(rp)"
   ]
  },
  {
   "cell_type": "code",
   "execution_count": 28,
   "metadata": {},
   "outputs": [
    {
     "name": "stdout",
     "output_type": "stream",
     "text": [
      "-74.03 -73.88598251342773 114.66 114.62300682067871\n",
      "-74.03 -73.88598251342773 114.66 114.62300682067871\n",
      "-74.03 -73.88598251342773 114.76702430725098 114.73598251342773\n",
      "-74.03 -73.88598251342773 114.76702430725098 114.73598251342773\n",
      "-74.03 -73.88598251342773 114.66 114.60848045349121\n",
      "-74.03 -73.88598251342773 114.66 114.60848045349121\n",
      "-74.03 -73.88598251342773 114.75249794006348 114.73598251342773\n",
      "-74.03 -73.88598251342773 114.75249794006348 114.73598251342773\n",
      "-74.03 -73.97015762329102 114.66 114.82015762329101\n",
      "-73.97015762329102 -73.94524002075195 114.60015762329101 114.79524002075195\n",
      "-74.03 -73.94524002075195 114.66 114.79524002075195\n",
      "-74.03 -73.94524002075195 114.66 114.79524002075195\n",
      "-73.94524002075195 -73.93268203735352 114.57524002075195 114.78268203735351\n",
      "-73.93268203735352 -73.88598251342773 114.56268203735351 114.73598251342773\n",
      "-73.94524002075195 -73.88598251342773 114.57524002075195 114.73598251342773\n",
      "-73.94524002075195 -73.88598251342773 114.57524002075195 114.73598251342773\n",
      "-73.88598251342773 -73.77 114.51598251342773 114.45417739868164\n",
      "-73.88598251342773 -73.77 114.51598251342773 114.45417739868164\n",
      "-73.88598251342773 -73.77 114.51598251342773 114.45417739868164\n",
      "-73.88598251342773 -73.77 114.51598251342773 114.45417739868164\n",
      "-73.88598251342773 -73.77 114.57015991210938 114.62\n",
      "-73.88598251342773 -73.77 114.57015991210938 114.62\n",
      "-73.88598251342773 -73.77 114.57015991210938 114.62\n",
      "-73.88598251342773 -73.77 114.57015991210938 114.62\n",
      "-73.88598251342773 -73.77 114.51598251342773 114.43557312011718\n",
      "-73.88598251342773 -73.77 114.51598251342773 114.43557312011718\n",
      "-73.88598251342773 -73.82650756835938 114.55155563354492 114.67650756835937\n",
      "-73.82650756835938 -73.77 114.49208068847656 114.62\n",
      "-73.88598251342773 -73.77 114.51598251342773 114.42395545959472\n",
      "-73.88598251342773 -73.77 114.51598251342773 114.42395545959472\n",
      "-73.88598251342773 -73.77 114.53993797302246 114.53861190795898\n",
      "-73.88598251342773 -73.77 114.65459442138672 114.62\n"
     ]
    },
    {
     "data": {
      "image/png": "[encoded data removed]",
      "text/plain": [
       "<Figure size 432x288 with 1 Axes>"
      ]
     },
     "metadata": {
      "needs_background": "light"
     },
     "output_type": "display_data"
    }
   ],
   "source": [
    "rectangles = decision_areas(dtree, [west, east, south, north], x=0, y=1)\n",
    "plt.scatter(X.iloc[:, 0], X.iloc[:, 1], c=y)\n",
    "plot_areas(rectangles)"
   ]
  },
  {
   "cell_type": "markdown",
   "metadata": {},
   "source": [
    "Using Decision Trees as a classifier to using geolocation data as predictor variables for the log_trip_duration bins doesn't seem to work too well. This is probably because as we've seen in the clustering models, there are a variety of trips taken throughout each cluster. In many of the clusters, taxi trips tend to stay within the same cluster, which means that the trip distance is short. However, given that this is Manhattan, that does not exactly translate to shorter trip duration either, because of traffic and public events. When we observe the plot above, we see that the majority of the map is either yellow or magenta/pink. This would suggest that many of our geolocational data point towards the log_trip_duration taking around the mean amount of time. We know that yellow is slightly above the mean duration and we can see that it intuitively covers the area known as downtown/midtown of Manhattan. However, this plot and model must be viewed with a grain of salt, since its RMLSE error metric was relatively high compared to even just simple linear regression."
   ]
  },
  {
   "cell_type": "code",
   "execution_count": null,
   "metadata": {},
   "outputs": [],
   "source": []
  }
 ],
 "metadata": {
  "kernelspec": {
   "display_name": "Python 3",
   "language": "python",
   "name": "python3"
  },
  "language_info": {
   "codemirror_mode": {
    "name": "ipython",
    "version": 3
   },
   "file_extension": ".py",
   "mimetype": "text/x-python",
   "name": "python",
   "nbconvert_exporter": "python",
   "pygments_lexer": "ipython3",
   "version": "3.7.3"
  }
 },
 "nbformat": 4,
 "nbformat_minor": 2
}
